{
 "cells": [
  {
   "cell_type": "markdown",
   "metadata": {},
   "source": [
    "# Project 2: Supervised Learning\n",
    "### Building a Student Intervention System"
   ]
  },
  {
   "cell_type": "markdown",
   "metadata": {},
   "source": [
    "## 1. Classification vs Regression\n",
    "\n",
    "Your goal is to identify students who might need early intervention - which type of supervised machine learning problem is this, classification or regression? \n",
    "\n",
    "**Answer:** This is a classification problem since we're expecting two discrete states for the target variable -- pass or fail. If we wanted to predict the exact percentage grade a student might achieve, then that would be an example of a regression problem."
   ]
  },
  {
   "cell_type": "markdown",
   "metadata": {},
   "source": [
    "## 2. Exploring the Data\n",
    "\n",
    "Let's go ahead and read in the student dataset first.\n",
    "\n",
    "_To execute a code cell, click inside it and press **Shift+Enter**._"
   ]
  },
  {
   "cell_type": "code",
   "execution_count": 1,
   "metadata": {
    "collapsed": false
   },
   "outputs": [],
   "source": [
    "# Import libraries\n",
    "import numpy as np\n",
    "import pandas as pd"
   ]
  },
  {
   "cell_type": "code",
   "execution_count": 2,
   "metadata": {
    "collapsed": false
   },
   "outputs": [
    {
     "name": "stdout",
     "output_type": "stream",
     "text": [
      "Student data read successfully!\n"
     ]
    }
   ],
   "source": [
    "# Read student data\n",
    "student_data = pd.read_csv(\"student-data.csv\")\n",
    "print \"Student data read successfully!\"\n",
    "# Note: The last column 'passed' is the target/label, all other are feature columns"
   ]
  },
  {
   "cell_type": "markdown",
   "metadata": {},
   "source": [
    "Now, can you find out the following facts about the dataset?\n",
    "- Total number of students\n",
    "- Number of students who passed\n",
    "- Number of students who failed\n",
    "- Graduation rate of the class (%)\n",
    "- Number of features\n",
    "\n",
    "_Use the code block below to compute these values. Instructions/steps are marked using **TODO**s._"
   ]
  },
  {
   "cell_type": "code",
   "execution_count": 3,
   "metadata": {
    "collapsed": false
   },
   "outputs": [
    {
     "name": "stdout",
     "output_type": "stream",
     "text": [
      "Total number of students: 395\n",
      "Number of students who passed: 265\n",
      "Number of students who failed: 130\n",
      "Number of features: 30\n",
      "Graduation rate of the class: 67.09%\n"
     ]
    }
   ],
   "source": [
    "# TODO: Compute desired values - replace each '?' with an appropriate expression/function call\n",
    "n_students = student_data.shape[0]\n",
    "n_features = student_data.shape[1] - 1\n",
    "# Subtract 1 since one column includes the results (aka target), which isn't a feature.\n",
    "n_passed = student_data[student_data['passed'] == 'yes'].shape[0]\n",
    "n_failed = student_data[student_data['passed'] == 'no'].shape[0]\n",
    "grad_rate = float(n_passed)/n_students*100\n",
    "print \"Total number of students: {}\".format(n_students)\n",
    "print \"Number of students who passed: {}\".format(n_passed)\n",
    "print \"Number of students who failed: {}\".format(n_failed)\n",
    "print \"Number of features: {}\".format(n_features)\n",
    "print \"Graduation rate of the class: {:.2f}%\".format(grad_rate)"
   ]
  },
  {
   "cell_type": "markdown",
   "metadata": {},
   "source": [
    "## 3. Preparing the Data\n",
    "In this section, we will prepare the data for modeling, training and testing.\n",
    "\n",
    "### Identify feature and target columns\n",
    "It is often the case that the data you obtain contains non-numeric features. This can be a problem, as most machine learning algorithms expect numeric data to perform computations with.\n",
    "\n",
    "Let's first separate our data into feature and target columns, and see if any features are non-numeric.<br/>\n",
    "**Note**: For this dataset, the last column (`'passed'`) is the target or label we are trying to predict."
   ]
  },
  {
   "cell_type": "code",
   "execution_count": 4,
   "metadata": {
    "collapsed": false
   },
   "outputs": [
    {
     "name": "stdout",
     "output_type": "stream",
     "text": [
      "Feature column(s):-\n",
      "['school', 'sex', 'age', 'address', 'famsize', 'Pstatus', 'Medu', 'Fedu', 'Mjob', 'Fjob', 'reason', 'guardian', 'traveltime', 'studytime', 'failures', 'schoolsup', 'famsup', 'paid', 'activities', 'nursery', 'higher', 'internet', 'romantic', 'famrel', 'freetime', 'goout', 'Dalc', 'Walc', 'health', 'absences']\n",
      "Target column: passed\n",
      "\n",
      "Feature values:-\n",
      "  school sex  age address famsize Pstatus  Medu  Fedu     Mjob      Fjob  \\\n",
      "0     GP   F   18       U     GT3       A     4     4  at_home   teacher   \n",
      "1     GP   F   17       U     GT3       T     1     1  at_home     other   \n",
      "2     GP   F   15       U     LE3       T     1     1  at_home     other   \n",
      "3     GP   F   15       U     GT3       T     4     2   health  services   \n",
      "4     GP   F   16       U     GT3       T     3     3    other     other   \n",
      "\n",
      "    ...    higher internet  romantic  famrel  freetime goout Dalc Walc health  \\\n",
      "0   ...       yes       no        no       4         3     4    1    1      3   \n",
      "1   ...       yes      yes        no       5         3     3    1    1      3   \n",
      "2   ...       yes      yes        no       4         3     2    2    3      3   \n",
      "3   ...       yes      yes       yes       3         2     2    1    1      5   \n",
      "4   ...       yes       no        no       4         3     2    1    2      5   \n",
      "\n",
      "  absences  \n",
      "0        6  \n",
      "1        4  \n",
      "2       10  \n",
      "3        2  \n",
      "4        4  \n",
      "\n",
      "[5 rows x 30 columns]\n"
     ]
    }
   ],
   "source": [
    "# Extract feature (X) and target (y) columns\n",
    "feature_cols = list(student_data.columns[:-1])  # all columns but last are features\n",
    "target_col = student_data.columns[-1]  # last column is the target/label\n",
    "print \"Feature column(s):-\\n{}\".format(feature_cols)\n",
    "print \"Target column: {}\".format(target_col)\n",
    "\n",
    "X_all = student_data[feature_cols]  # feature values for all students\n",
    "y_all = student_data[target_col]  # corresponding targets/labels\n",
    "print \"\\nFeature values:-\"\n",
    "print X_all.head()  # print the first 5 rows"
   ]
  },
  {
   "cell_type": "markdown",
   "metadata": {},
   "source": [
    "### Preprocess feature columns\n",
    "\n",
    "As you can see, there are several non-numeric columns that need to be converted! Many of them are simply `yes`/`no`, e.g. `internet`. These can be reasonably converted into `1`/`0` (binary) values.\n",
    "\n",
    "Other columns, like `Mjob` and `Fjob`, have more than two values, and are known as _categorical variables_. The recommended way to handle such a column is to create as many columns as possible values (e.g. `Fjob_teacher`, `Fjob_other`, `Fjob_services`, etc.), and assign a `1` to one of them and `0` to all others.\n",
    "\n",
    "These generated columns are sometimes called _dummy variables_, and we will use the [`pandas.get_dummies()`](http://pandas.pydata.org/pandas-docs/stable/generated/pandas.get_dummies.html?highlight=get_dummies#pandas.get_dummies) function to perform this transformation."
   ]
  },
  {
   "cell_type": "code",
   "execution_count": 5,
   "metadata": {
    "collapsed": false
   },
   "outputs": [
    {
     "name": "stdout",
     "output_type": "stream",
     "text": [
      "Processed feature columns (48):-\n",
      "['school_GP', 'school_MS', 'sex_F', 'sex_M', 'age', 'address_R', 'address_U', 'famsize_GT3', 'famsize_LE3', 'Pstatus_A', 'Pstatus_T', 'Medu', 'Fedu', 'Mjob_at_home', 'Mjob_health', 'Mjob_other', 'Mjob_services', 'Mjob_teacher', 'Fjob_at_home', 'Fjob_health', 'Fjob_other', 'Fjob_services', 'Fjob_teacher', 'reason_course', 'reason_home', 'reason_other', 'reason_reputation', 'guardian_father', 'guardian_mother', 'guardian_other', 'traveltime', 'studytime', 'failures', 'schoolsup', 'famsup', 'paid', 'activities', 'nursery', 'higher', 'internet', 'romantic', 'famrel', 'freetime', 'goout', 'Dalc', 'Walc', 'health', 'absences']\n"
     ]
    }
   ],
   "source": [
    "# Preprocess feature columns\n",
    "def preprocess_features(X):\n",
    "    outX = pd.DataFrame(index=X.index)  # output dataframe, initially empty\n",
    "\n",
    "    # Check each column\n",
    "    for col, col_data in X.iteritems():\n",
    "        # If data type is non-numeric, try to replace all yes/no values with 1/0\n",
    "        if col_data.dtype == object:\n",
    "            col_data = col_data.replace(['yes', 'no'], [1, 0])\n",
    "        # Note: This should change the data type for yes/no columns to int\n",
    "\n",
    "        # If still non-numeric, convert to one or more dummy variables\n",
    "        if col_data.dtype == object:\n",
    "            col_data = pd.get_dummies(col_data, prefix=col)  # e.g. 'school' => 'school_GP', 'school_MS'\n",
    "\n",
    "        outX = outX.join(col_data)  # collect column(s) in output dataframe\n",
    "\n",
    "    return outX\n",
    "\n",
    "X_all = preprocess_features(X_all)\n",
    "print \"Processed feature columns ({}):-\\n{}\".format(len(X_all.columns), list(X_all.columns))"
   ]
  },
  {
   "cell_type": "markdown",
   "metadata": {},
   "source": [
    "### Split data into training and test sets\n",
    "\n",
    "So far, we have converted all _categorical_ features into numeric values. In this next step, we split the data (both features and corresponding labels) into training and test sets."
   ]
  },
  {
   "cell_type": "code",
   "execution_count": 6,
   "metadata": {
    "collapsed": false
   },
   "outputs": [
    {
     "name": "stdout",
     "output_type": "stream",
     "text": [
      "Training set: 300 samples\n",
      "Test set: 95 samples\n"
     ]
    }
   ],
   "source": [
    "# First, decide how many training vs test samples you want\n",
    "num_all = student_data.shape[0]  # same as len(student_data)\n",
    "num_train = 300  # about 75% of the data\n",
    "num_test = num_all - num_train\n",
    "\n",
    "# TODO: Then, select features (X) and corresponding labels (y) for the training and test sets\n",
    "# Note: Shuffle the data or randomly select samples to avoid any bias due to ordering in the dataset\n",
    "\n",
    "# I used skikit-learn's train_test_split utility which automatically shuffles and samples.\n",
    "from sklearn.cross_validation import train_test_split\n",
    "X_train, X_test, y_train, y_test = train_test_split(X_all, y_all, test_size=num_test, random_state=1)\n",
    "\n",
    "print \"Training set: {} samples\".format(X_train.shape[0])\n",
    "print \"Test set: {} samples\".format(X_test.shape[0])\n",
    "# Note: If you need a validation set, extract it from within training data"
   ]
  },
  {
   "cell_type": "markdown",
   "metadata": {},
   "source": [
    "## 4. Training and Evaluating Models\n",
    "Choose 3 supervised learning models that are available in scikit-learn, and appropriate for this problem. For each model:\n",
    "\n",
    "- What are the general applications of this model? What are its strengths and weaknesses?\n",
    "- Given what you know about the data so far, why did you choose this model to apply?\n",
    "- Fit this model to the training data, try to predict labels (for both training and test sets), and measure the F<sub>1</sub> score. Repeat this process with different training set sizes (100, 200, 300), keeping test set constant.\n",
    "\n",
    "Produce a table showing training time, prediction time, F<sub>1</sub> score on training set and F<sub>1</sub> score on test set, for each training set size.\n",
    "\n",
    "Note: You need to produce 3 such tables - one for each model.\n",
    "\n",
    "----------------------------------------------------\n",
    "\n",
    "I selected three supervised learning models: support vector machines (SVM), nearest neighbors and random forests. \n",
    "\n",
    "### Support vector machines\n",
    "\n",
    "---------------------------------------\n",
    "**Update:** As the reviewer noted, SVM is a binary algorithm. While it can work with multi-classification problems (using one vs. all methods), it can be especially helpful in applications where one is comparing two discrete choices (e.g. yes/no). In this particular project, selecting at risk students is a binary choice, which makes it a candidate for this algorithm. \n",
    "\n",
    "Note also that SVM finds applications in problems where the expert can build in their own knowledge of the system (using the kernel trick). If an individual knows the problem takes a particular form (e.g. quadratic), then they can use this knowledge to better manipulate the data.\n",
    "\n",
    "For a specific example, a semiconductor company might use SVM to classify if a product passes or fails based on a set of parameters. Since these parameters have a physical relationship, kernel methods may be used. \n",
    "\n",
    "---------------------------------------\n",
    "\n",
    "This algorithm is often used in classification problems to create linear hyperplanes between samples. Its strength is that it tries to maximize the margin between the samples, which allows it to be more robust when it sees new samples. Its disadvantage is that it draws lines and as such doesn't have as many degrees of freedom for creating complex boundaries when compared to nearest neighbors or random forests.\n",
    "\n",
    "I chose this model to try out since it is a popular algorithm (especially when combined with kernel methods) to classify samples. It is good for creating generalized models that aren't as subject to overfitting.\n",
    "\n",
    "| Training set size         | 100   | 200   | 300   |\n",
    "|---------------------------|-------|-------|-------|\n",
    "| Training time (secs)      | 0.002 | 0.006 | 0.012 |\n",
    "| Prediction time (secs)    | 0.002 | 0.005 | 0.008 |\n",
    "| F1 score for training set | 0.859 | 0.858 | 0.858 |\n",
    "| F1 score for test set     | 0.833 | 0.841 | 0.846 |\n",
    "\n",
    "### K-nearest neighbors\n",
    "K-nearest neighbors is used in classification problems and memorizes the data. It uses _k_ of the closest samples to a point and performs a majority vote to classify the new point.\n",
    "\n",
    "---------------------------------------\n",
    "**Update:** KNN is used in applications which involve data clustering and where parametric models may not suffice. It's useful in scenarios where there may not be a simple physics-based understanding one can apply and it does not make underlying assumptions about the data (e.g. gaussian distributed). \n",
    "\n",
    "Since it memorizes data points, it tends not to do well in applications where there isn't a whole lot of data. \n",
    "\n",
    "For a specific application, I can imagine that KNN might be useful for Netflix to use to determine which movies/shows a subscriber may want to see. This application doesn't have a simple physics-based model and there may be alot of clustering among different users in their preferences.\n",
    "\n",
    "---------------------------------------\n",
    "\n",
    "Its advantages includes its simplicity and ability to classify samples that have complex boundaries between the different types. Its disadvantages include being computationally expensive for large datasets (since it memorizes data) and it doesn't create a generalized model that can be interpreted.\n",
    "\n",
    "| Training set size         | 100   | 200   | 300   |\n",
    "|---------------------------|-------|-------|-------|\n",
    "| Training time (secs)      | 0.001 | 0.001 | 0.001 |\n",
    "| Prediction time (secs)    | 0.002 | 0.004 | 0.012 |\n",
    "| F1 score for training set | 0.788 | 0.834 | 0.856 |\n",
    "| F1 score for test set     | 0.772 | 0.797 | 0.768 |\n",
    "\n",
    "I chose this model since (being a student intervention system) similar students may demonstrate the same signs for needing support.\n",
    "\n",
    "### Random forests\n",
    "---------------------------------------\n",
    "**Update:** Random forests can be used in applications where a kernel method is unable to create linearly separable boundaries (like with SVM). It can model very complex relationships between the data and are resilient in the presence of noisy and non-linear features.\n",
    "\n",
    "A specific use case of random forests might be handwriting recognition, where complex relationships in the shapes of characters can be modeled. There is a lot of noise and non-linearity in this application.\n",
    "\n",
    "---------------------------------------\n",
    "\n",
    "\n",
    "Random forests are again used for classification problems, particularly when it's difficult to draw simple lines between the boundaries of samples. It's strength is its many possible degrees of freedom to draw boundaries, but this is also its weakness, as one can overfit the data. This means that it can make it hard to generalize enough for new, unseen samples.\n",
    "\n",
    "Random forests can be considered comprised of decision trees. It is an \"ensemble\" method.\n",
    "\n",
    "I chose this model to try out since there are many variables in the dataset, so using random forests may be a good fit for data of high complexity.\n",
    "\n",
    "| Training set size         | 100   | 200   | 300   |\n",
    "|---------------------------|-------|-------|-------|\n",
    "| Training time (secs)      | 0.012 | 0.012 | 0.010 |\n",
    "| Prediction time (secs)    | 0.001 | 0.001 | 0.001 |\n",
    "| F1 score for training set | 0.956 | 0.960 | 0.960 |\n",
    "| F1 score for test set     | 0.739 | 0.800 | 0.770 |\n"
   ]
  },
  {
   "cell_type": "code",
   "execution_count": 7,
   "metadata": {
    "collapsed": false
   },
   "outputs": [
    {
     "name": "stdout",
     "output_type": "stream",
     "text": [
      "Training SVC...\n",
      "Done!\n",
      "Training time (secs): 0.007\n",
      "SVC(C=1.0, cache_size=200, class_weight=None, coef0=0.0,\n",
      "  decision_function_shape=None, degree=3, gamma='auto', kernel='rbf',\n",
      "  max_iter=-1, probability=False, random_state=None, shrinking=True,\n",
      "  tol=0.001, verbose=False)\n"
     ]
    }
   ],
   "source": [
    "# Train a model\n",
    "import time\n",
    "\n",
    "def train_classifier(clf, X_train, y_train):\n",
    "    print \"Training {}...\".format(clf.__class__.__name__)\n",
    "    start = time.time()\n",
    "    clf.fit(X_train, y_train)\n",
    "    end = time.time()\n",
    "    print \"Done!\\nTraining time (secs): {:.3f}\".format(end - start)\n",
    "\n",
    "# TODO: Choose a model, import it and instantiate an object\n",
    "from sklearn import svm\n",
    "clf = svm.SVC()\n",
    "\n",
    "# Fit model to training data\n",
    "train_classifier(clf, X_train, y_train)  # note: using entire training set here\n",
    "print clf  # you can inspect the learned model by printing it"
   ]
  },
  {
   "cell_type": "code",
   "execution_count": 8,
   "metadata": {
    "collapsed": false
   },
   "outputs": [
    {
     "name": "stdout",
     "output_type": "stream",
     "text": [
      "Predicting labels using SVC...\n",
      "Done!\n",
      "Prediction time (secs): 0.004\n",
      "F1 score for training set: 0.858387799564\n"
     ]
    }
   ],
   "source": [
    "# Predict on training set and compute F1 score\n",
    "from sklearn.metrics import f1_score\n",
    "\n",
    "def predict_labels(clf, features, target):\n",
    "    print \"Predicting labels using {}...\".format(clf.__class__.__name__)\n",
    "    start = time.time()\n",
    "    y_pred = clf.predict(features)\n",
    "    end = time.time()\n",
    "    print \"Done!\\nPrediction time (secs): {:.3f}\".format(end - start)\n",
    "    return f1_score(target.values, y_pred, pos_label='yes')\n",
    "\n",
    "train_f1_score = predict_labels(clf, X_train, y_train)\n",
    "print \"F1 score for training set: {}\".format(train_f1_score)"
   ]
  },
  {
   "cell_type": "code",
   "execution_count": 9,
   "metadata": {
    "collapsed": false
   },
   "outputs": [
    {
     "name": "stdout",
     "output_type": "stream",
     "text": [
      "Predicting labels using SVC...\n",
      "Done!\n",
      "Prediction time (secs): 0.002\n",
      "F1 score for test set: 0.846153846154\n"
     ]
    }
   ],
   "source": [
    "# Predict on test data\n",
    "print \"F1 score for test set: {}\".format(predict_labels(clf, X_test, y_test))"
   ]
  },
  {
   "cell_type": "code",
   "execution_count": 10,
   "metadata": {
    "collapsed": false
   },
   "outputs": [
    {
     "name": "stdout",
     "output_type": "stream",
     "text": [
      "------------------------------------------\n",
      "Training set size: 100\n",
      "Training SVC...\n",
      "Done!\n",
      "Training time (secs): 0.001\n",
      "Predicting labels using SVC...\n",
      "Done!\n",
      "Prediction time (secs): 0.001\n",
      "F1 score for training set: 0.859060402685\n",
      "Predicting labels using SVC...\n",
      "Done!\n",
      "Prediction time (secs): 0.000\n",
      "F1 score for test set: 0.833333333333\n",
      "------------------------------------------\n",
      "Training set size: 200\n",
      "Training SVC...\n",
      "Done!\n",
      "Training time (secs): 0.003\n",
      "Predicting labels using SVC...\n",
      "Done!\n",
      "Prediction time (secs): 0.002\n",
      "F1 score for training set: 0.858064516129\n",
      "Predicting labels using SVC...\n",
      "Done!\n",
      "Prediction time (secs): 0.001\n",
      "F1 score for test set: 0.84076433121\n",
      "------------------------------------------\n",
      "Training set size: 300\n",
      "Training SVC...\n",
      "Done!\n",
      "Training time (secs): 0.006\n",
      "Predicting labels using SVC...\n",
      "Done!\n",
      "Prediction time (secs): 0.004\n",
      "F1 score for training set: 0.858387799564\n",
      "Predicting labels using SVC...\n",
      "Done!\n",
      "Prediction time (secs): 0.002\n",
      "F1 score for test set: 0.846153846154\n"
     ]
    }
   ],
   "source": [
    "# Train and predict using different training set sizes\n",
    "def train_predict(clf, X_train, y_train, X_test, y_test):\n",
    "    print \"------------------------------------------\"\n",
    "    print \"Training set size: {}\".format(len(X_train))\n",
    "    train_classifier(clf, X_train, y_train)\n",
    "    print \"F1 score for training set: {}\".format(predict_labels(clf, X_train, y_train))\n",
    "    print \"F1 score for test set: {}\".format(predict_labels(clf, X_test, y_test))\n",
    "\n",
    "# TODO: Run the helper function above for desired subsets of training data\n",
    "# Note: Keep the test set constant\n",
    "\n",
    "# Notes: I would actually probably have used sklearn's libraries to do this. However, I'll\n",
    "# make a loop that uses training set sizes of 100, 200 and 300 per the instructions.\n",
    "rows = [100, 200, 300]\n",
    "\n",
    "for r in rows:\n",
    "    # Train on a subset and predict on the original test set per the instructions.\n",
    "    train_predict(clf, X_train.iloc[0:r], y_train.iloc[0:r], X_test, y_test)"
   ]
  },
  {
   "cell_type": "code",
   "execution_count": 11,
   "metadata": {
    "collapsed": false
   },
   "outputs": [
    {
     "name": "stdout",
     "output_type": "stream",
     "text": [
      "------------------------------------------\n",
      "Training set size: 100\n",
      "Training RandomForestClassifier...\n",
      "Done!\n",
      "Training time (secs): 0.006\n",
      "Predicting labels using RandomForestClassifier...\n",
      "Done!\n",
      "Prediction time (secs): 0.000\n",
      "F1 score for training set: 0.923076923077\n",
      "Predicting labels using RandomForestClassifier...\n",
      "Done!\n",
      "Prediction time (secs): 0.001\n",
      "F1 score for test set: 0.716417910448\n",
      "------------------------------------------\n",
      "Training set size: 200\n",
      "Training RandomForestClassifier...\n",
      "Done!\n",
      "Training time (secs): 0.006\n",
      "Predicting labels using RandomForestClassifier...\n",
      "Done!\n",
      "Prediction time (secs): 0.001\n",
      "F1 score for training set: 0.944237918216\n",
      "Predicting labels using RandomForestClassifier...\n",
      "Done!\n",
      "Prediction time (secs): 0.001\n",
      "F1 score for test set: 0.740740740741\n",
      "------------------------------------------\n",
      "Training set size: 300\n",
      "Training RandomForestClassifier...\n",
      "Done!\n",
      "Training time (secs): 0.005\n",
      "Predicting labels using RandomForestClassifier...\n",
      "Done!\n",
      "Prediction time (secs): 0.000\n",
      "F1 score for training set: 0.942928039702\n",
      "Predicting labels using RandomForestClassifier...\n",
      "Done!\n",
      "Prediction time (secs): 0.001\n",
      "F1 score for test set: 0.759124087591\n"
     ]
    }
   ],
   "source": [
    "## Random forests\n",
    "\n",
    "from sklearn.ensemble import RandomForestClassifier\n",
    "clf = RandomForestClassifier(n_estimators=3)\n",
    "\n",
    "rows = [100, 200, 300]\n",
    "\n",
    "for r in rows:\n",
    "    # Train on a subset and predict on the original test set per the instructions.\n",
    "    train_predict(clf, X_train.iloc[0:r], y_train.iloc[0:r], X_test, y_test)"
   ]
  },
  {
   "cell_type": "code",
   "execution_count": 12,
   "metadata": {
    "collapsed": false
   },
   "outputs": [
    {
     "name": "stdout",
     "output_type": "stream",
     "text": [
      "------------------------------------------\n",
      "Training set size: 100\n",
      "Training KNeighborsClassifier...\n",
      "Done!\n",
      "Training time (secs): 0.000\n",
      "Predicting labels using KNeighborsClassifier...\n",
      "Done!\n",
      "Prediction time (secs): 0.002\n",
      "F1 score for training set: 0.788321167883\n",
      "Predicting labels using KNeighborsClassifier...\n",
      "Done!\n",
      "Prediction time (secs): 0.001\n",
      "F1 score for test set: 0.772727272727\n",
      "------------------------------------------\n",
      "Training set size: 200\n",
      "Training KNeighborsClassifier...\n",
      "Done!\n",
      "Training time (secs): 0.001\n",
      "Predicting labels using KNeighborsClassifier...\n",
      "Done!\n",
      "Prediction time (secs): 0.002\n",
      "F1 score for training set: 0.834482758621\n",
      "Predicting labels using KNeighborsClassifier...\n",
      "Done!\n",
      "Prediction time (secs): 0.002\n",
      "F1 score for test set: 0.797101449275\n",
      "------------------------------------------\n",
      "Training set size: 300\n",
      "Training KNeighborsClassifier...\n",
      "Done!\n",
      "Training time (secs): 0.001\n",
      "Predicting labels using KNeighborsClassifier...\n",
      "Done!\n",
      "Prediction time (secs): 0.005\n",
      "F1 score for training set: 0.855813953488\n",
      "Predicting labels using KNeighborsClassifier...\n",
      "Done!\n",
      "Prediction time (secs): 0.002\n",
      "F1 score for test set: 0.768115942029\n"
     ]
    }
   ],
   "source": [
    "## K-nearest neighbors\n",
    "\n",
    "from sklearn.neighbors import KNeighborsClassifier\n",
    "clf = KNeighborsClassifier()\n",
    "\n",
    "rows = [100, 200, 300]\n",
    "\n",
    "for r in rows:\n",
    "    # Train on a subset and predict on the original test set per the instructions.\n",
    "    train_predict(clf, X_train.iloc[0:r], y_train.iloc[0:r], X_test, y_test)"
   ]
  },
  {
   "cell_type": "markdown",
   "metadata": {},
   "source": [
    "## 5. Choosing the Best Model\n",
    "\n",
    "- Based on the experiments you performed earlier, in 1-2 paragraphs explain to the board of supervisors what single model you chose as the best model. Which model is generally the most appropriate based on the available data, limited resources, cost, and performance?\n",
    "- In 1-2 paragraphs explain to the board of supervisors in layman's terms how the final model chosen is supposed to work (for example if you chose a Decision Tree or Support Vector Machine, how does it make a prediction).\n",
    "- Fine-tune the model. Use Gridsearch with at least one important parameter tuned and with at least 3 settings. Use the entire training set for this.\n",
    "- What is the model's final F<sub>1</sub> score?\n",
    "\n",
    "-------------------\n",
    "\n",
    "### Selected Model\n",
    "I selected the support vector machines (SVM) algorithm when compared to both random forests and k-nearest neighbors. The SVM algorithm has the best performance when dealing with unseen data -- it has the highest F1 score on the test data set.\n",
    "\n",
    "While it does have the highest computational cost for training time (12 ms with 300 students) among the three models, the higher performance on F1 score is worth a few milliseconds since this isn't a real time application (like a self-driving automobile) with demanding time constraints.\n",
    "\n",
    "### Model Theory of Operation\n",
    "---------------------------------------\n",
    "**Update:** Support vector machines (SVM) is a machine learning classification algorithm that works by finding the optimal line (known as a hyperplane) that it can draw between sets of data points. It then uses this hyperplane to classify future samples. \n",
    "\n",
    "In the simplest example (scatterplot image below), consider a situation where we might represent the two student groups,  performing (red squares) and at-risk (blue circles), via only two parameters (x1 and x2). \n",
    "\n",
    "<img src =\"optimal-hyperplane.png\">\n",
    "\n",
    "Training SVM involves providing a set data points where a simple linear hyperplane can be drawn between the groups. SVM then iterates multiple times and a tries to find the hyperplane with the most amount of physical margin between the points at the edge of the clusters. These edge points (solidly colored squares/circles) are called the \"support vectors.\"\n",
    "\n",
    "When new samples (or students) are added to the scatterplot, their classification is determined by which side of the hyperplane they are on. Also, since SVM maximizes the margin between the support vectors, it is relatively good at correctly classifying new samples (or students) it hasn't seen yet.\n",
    "\n",
    "Now sometimes the data provided isn't linearly separable and SVM is unable to determine good hyperplanes. Our actual student data is an example of this, since it has more than 30 features and not 2 like the simple example above. For this case, we can use something called the kernel trick.\n",
    "\n",
    "In the image below (right), only a circle can be draw between the red circles and blue triangles. SVM will not work well because a circle is not a linear hyperplane. However, if we manipulate the data such that it can be projected onto a 3D space (left image below), then we can draw a linear hyperplane.\n",
    "\n",
    "<img src=\"data_2d_to_3d_hyperplane.png\">\n",
    "\n",
    "The kernel trick involves finding a function that we can use to map the data from one \"space\" to another \"space\". This mapping function may be linear, polynomial or a radial basis (Gaussian) -- the last of which we actually used in the student intervention model.\n",
    "\n",
    "This mapping then makes the data linearly separable and ready for applying SVM.\n",
    "\n",
    "---------------------------------------\n",
    "\n",
    "### Fine Tuning\n",
    "I used the entire training set with GridSearchCV, which iterates over many parameters and finds the parameters achieving the best score (in this case F1).\n",
    "\n",
    "One difference between the original results and when using GridSearch is that the latter also does cross-validation as part of its process.\n",
    "\n",
    "--------------------\n",
    "**Updated**\n",
    "\n",
    "GridSearch ultimately selected a C value (penalty parameter) of 1 (default is 1). It also selected a gamma (kernel coefficient) of 0.1, which is slightly different than the default of 1/n_features (1/30 or 0.0333).\n",
    "\n",
    "The final F1 score is 0.975 for the training set and 0.848 for the test set. This result is a slightly better result than the default parameters."
   ]
  },
  {
   "cell_type": "code",
   "execution_count": 57,
   "metadata": {
    "collapsed": false
   },
   "outputs": [
    {
     "name": "stdout",
     "output_type": "stream",
     "text": [
      "DEFAULT PARAMETER PERFORMANCE\n",
      "F1 Score on Training Data: 0.858387799564\n",
      "F1 Score on Test Data: 0.846153846154\n",
      "<bound method SVC.get_params of SVC(C=1.0, cache_size=200, class_weight=None, coef0=0.0,\n",
      "  decision_function_shape=None, degree=3, gamma='auto', kernel='rbf',\n",
      "  max_iter=-1, probability=False, random_state=None, shrinking=True,\n",
      "  tol=0.001, verbose=False)>\n",
      "\n",
      "\n",
      "GRID SEARCH PERFORMANCE\n",
      "F1 Score on Training Data: 0.975369458128\n",
      "F1 Score on Test Data: 0.848101265823\n",
      "{'kernel': 'rbf', 'C': 1, 'gamma': 0.1, 'degree': 2}\n"
     ]
    }
   ],
   "source": [
    "# Import sklearn's Grid Search\n",
    "from sklearn.grid_search import GridSearchCV\n",
    "from sklearn.metrics import make_scorer\n",
    "\n",
    "# Create a base model on SVM\n",
    "clf = svm.SVC()\n",
    "params_default = clf.get_params\n",
    "\n",
    "# Define a scorer, since the default for GridSearchCV is accuracy\n",
    "scorer = make_scorer(f1_score, pos_label = 'yes')\n",
    "\n",
    "# Setup the parameters to vary\n",
    "param_grid = [\n",
    "    {'C': [0.01, 0.1, 0.9, 1, 1.1, 10], \n",
    "     'gamma': [0.001, 0.01, 0.1, 0.5, 1, 1.5, 2],\n",
    "     'degree': [2, 3, 4, 5, 6],\n",
    "     'kernel': ['linear', 'rbf', 'poly'],\n",
    "     }\n",
    "]\n",
    "\n",
    "# Create the model\n",
    "gs = GridSearchCV(clf, param_grid=param_grid, scoring=scorer)\n",
    "\n",
    "# Fit the model\n",
    "gs.fit(X_train, y_train)\n",
    "\n",
    "# Report the default results\n",
    "clf.fit(X_train, y_train)\n",
    "print('DEFAULT PARAMETER PERFORMANCE')\n",
    "print('F1 Score on Training Data: ' + str(f1_score(y_train.values, clf.predict(X_train), pos_label='yes')))\n",
    "print('F1 Score on Test Data: ' + str(f1_score(y_test.values, clf.predict(X_test), pos_label='yes')))\n",
    "print(clf.get_params)\n",
    "print('\\n')\n",
    "\n",
    "# Report on the optimized results\n",
    "print('GRID SEARCH PERFORMANCE')\n",
    "print('F1 Score on Training Data: ' + str(f1_score(y_train.values, gs.predict(X_train), pos_label='yes')))\n",
    "print('F1 Score on Test Data: ' + str(f1_score(y_test.values, gs.predict(X_test), pos_label='yes')))\n",
    "print(gs.best_params_)"
   ]
  },
  {
   "cell_type": "code",
   "execution_count": null,
   "metadata": {
    "collapsed": true
   },
   "outputs": [],
   "source": []
  }
 ],
 "metadata": {
  "kernelspec": {
   "display_name": "Python 2",
   "language": "python",
   "name": "python2"
  },
  "language_info": {
   "codemirror_mode": {
    "name": "ipython",
    "version": 2
   },
   "file_extension": ".py",
   "mimetype": "text/x-python",
   "name": "python",
   "nbconvert_exporter": "python",
   "pygments_lexer": "ipython2",
   "version": "2.7.11"
  }
 },
 "nbformat": 4,
 "nbformat_minor": 0
}
